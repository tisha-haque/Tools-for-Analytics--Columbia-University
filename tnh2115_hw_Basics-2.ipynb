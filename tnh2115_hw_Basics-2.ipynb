{
 "cells": [
  {
   "cell_type": "markdown",
   "metadata": {},
   "source": [
    "<subject>\n",
    "Assignment How-To\n",
    "</subject>\n",
    "\n",
    "<details>\n",
    "    \n",
    "**Do Not Talk During Quizzes or Exams**\n",
    "\n",
    "Do not talk at all once an exam has begun. You may talk again once you leave the room after the quiz or exam. The one exception to this rule is if you need to ask the exam proctor a question. Any talking during a quiz or exam qualifies the student for disciplinary action.\n",
    "\n",
    "**Naming Conventions**\n",
    "\n",
    "When naming your files for upload, you must follow the format below:\n",
    "\n",
    "    <uni>_<assignment>_<details [optional]>.<extension>\n",
    "\n",
    "For example, if I needed to hand in HW 0, any of the below formats would be sufficient for a file name:\n",
    "\n",
    "- pl2648_hw0.ipynb\n",
    "- pl2648_hw0.txt\n",
    "- pl2648_hw0.sh\n",
    "- pl2648_hw0_all_in_one.txt\n",
    "- Pl2648_hw0_bash_program.sh\n",
    "- Pl2648_quiz1.ipynb\n",
    "\n",
    "This naming format allows for autograding of all assignments. If your files are not named with this format, you should expect a grade of zero for the assignment.\n",
    "\n",
    "Courseworks may rename your file to something like `pl2648_hw0-1.ipynb` if you resubmit your assignment. This is perfectly fine.\n",
    "\n",
    "**What Format To Submit In**\n",
    "\n",
    "Most homework and quizzes are in Jupyter notebooks. Unless specified otherwise, please download your work as an `.ipynb` file from your local machine and upload it to courseworks.\n",
    "\n",
    "\n",
    "**Grading**\n",
    "\n",
    "Possible points on late assignments are deducted by 50% for each day they are late. For example, if you get 80% of the total possible credits on a homework but hand in that homework a day late, you would get 40%. Assignments two days late get zero points.\n",
    "\n",
    "Once solutions are posted and graded assignments are handed back, students have 1 week to bring their grading discrepancies to a CA for consideration of possible grading errors. \n",
    "\n",
    "Because grading is automated, please delete (or comment out) the `raise NotImplmeneted` code before attempting a problem. \n",
    "\n",
    "Empty un-editable cells in an assignment are there for a purpose. They will be filled with tests by the automatic grader. Please do not attempt to remove them.\n",
    "\n",
    "**Getting Help**\n",
    "\n",
    "Asking for help is a great way to increase your chance of success. However there are some rules. When asking for help (especially from a fellow student), *you can show your helper your code but you can not view theirs*. You work needs to be your own. You can not post screenshots of your current work to Piazza or other tools used for getting help.\n",
    "\n",
    "If you need to reach out to a CA for help, please do so via Piazza and not via email. Answers given via Piazza will help you as well as other students. Thus, emails will always have a lower priority for response than Piazza questions. If you do email the CA, please make a note of what section you are in. This helps us identify you in courseworks faster. \n",
    "\n",
    "Finally, if you do not get a repsonse from a CA within 48 hours, you may email the professor.\n",
    "\n",
    "**Multiple Choice**\n",
    "\n",
    "If the question is multiple choice, you will be given several options to choose from and your function will need to return **one** of those options **verbatim** as a string.\n",
    "\n",
    "For example: \n",
    "\n",
    "Which of the following animals bark?\n",
    "\n",
    "- dogs\n",
    "- cats\n",
    "- fish\n",
    "- trees\n",
    "\n",
    "A correct answer would be structured in the following way:\n",
    "\n",
    "```python\n",
    "def question_animals():\n",
    "    return 'dogs'\n",
    "```\n",
    "\n",
    "You answer will be stripped of left and right white space and lowercased before comparison to the correct answer during grading.\n",
    "</details>"
   ]
  },
  {
   "cell_type": "markdown",
   "metadata": {
    "deletable": false,
    "editable": false,
    "nbgrader": {
     "cell_type": "markdown",
     "checksum": "bfd2e0ed6b930fdf1627290e4a038246",
     "grade": false,
     "grade_id": "cell-1bb848dc954496cd",
     "locked": true,
     "schema_version": 3,
     "solution": false
    }
   },
   "source": [
    "**Q**: Write a script that appends 500,000 items to a an empty list; the item can be anything so the number 1 would do. Time how long it takes (with a stop watch on the Internet or your phone). Write a script that prepends 500,000 items to an empty list and time how long it takes. *DO NOT PRINT THE RESULT OR EACH VALUE ADDED TO THESE LISTS. Please clear your cell's output of the 500,000 items before handing in your assignment; scrolling through 500,000 items is a lot of work!*\n",
    "\n",
    "What script takes longer and why? No more than 50 words. \n",
    "\n",
    "If either script runs for more than a minute, stop it and assume that it ran infinitely long.\n",
    "\n",
    "[1 point]"
   ]
  },
  {
   "cell_type": "code",
   "execution_count": null,
   "metadata": {
    "deletable": false,
    "nbgrader": {
     "cell_type": "code",
     "checksum": "f0e17160d8fabd44b7fb132cd1aeb0a8",
     "grade": true,
     "grade_id": "cell-670e7107d58db7bf",
     "locked": false,
     "points": 0,
     "schema_version": 3,
     "solution": true
    }
   },
   "outputs": [],
   "source": [
    "list_a = []\n",
    "for i in range(500000):\n",
    "    list_a.append(1)\n",
    "list_a\n",
    "\n",
    "\n"
   ]
  },
  {
   "cell_type": "code",
   "execution_count": 16,
   "metadata": {
    "deletable": false,
    "nbgrader": {
     "cell_type": "code",
     "checksum": "a64f718b2f9f7ec1ffb9fc7593489dfe",
     "grade": true,
     "grade_id": "cell-c1f537f3db59f76e",
     "locked": false,
     "points": 0,
     "schema_version": 3,
     "solution": true
    }
   },
   "outputs": [
    {
     "data": {
      "text/plain": [
       "[1, 1, 1, 1, 1, 1, 1, 1, 1, 1]"
      ]
     },
     "execution_count": 16,
     "metadata": {},
     "output_type": "execute_result"
    }
   ],
   "source": [
    "list_b = []\n",
    "for i in range(500000):\n",
    "    list_b.insert(0,1)\n",
    "list_b\n"
   ]
  },
  {
   "cell_type": "markdown",
   "metadata": {
    "deletable": false,
    "nbgrader": {
     "cell_type": "markdown",
     "checksum": "b0a85c2cb27f8d4889fd7ed8b79b4ded",
     "grade": true,
     "grade_id": "cell-91f1edcf7c372b7c",
     "locked": false,
     "points": 0.5,
     "schema_version": 3,
     "solution": true
    }
   },
   "source": [
    "It takes longer to prepend 500,000 items since with prepending, we are using the insert syntax which requires each item to be shifted back and then the insert item to be added."
   ]
  },
  {
   "cell_type": "markdown",
   "metadata": {
    "deletable": false,
    "nbgrader": {
     "cell_type": "markdown",
     "checksum": "63e5c9cc6b0a3bef35f12ffe8cfe064f",
     "grade": true,
     "grade_id": "cell-97218517da1a7d9f",
     "locked": false,
     "points": 0.5,
     "schema_version": 3,
     "solution": true,
     "task": false
    }
   },
   "source": [
    "YOUR ANSWER HERE"
   ]
  },
  {
   "cell_type": "markdown",
   "metadata": {
    "deletable": false,
    "editable": false,
    "nbgrader": {
     "cell_type": "markdown",
     "checksum": "10df9870ac96f38301165aabb9c185d3",
     "grade": false,
     "grade_id": "cell-bbef2b68f8720c12",
     "locked": true,
     "schema_version": 3,
     "solution": false
    }
   },
   "source": [
    "**Q**: Create a function `evens` that returns all the even numbers between 0 and a given positive number x. Zero should be included in the result but x should not be included unless x is zero. Any data structure that is iterable will be sufficient for returning these values. \n",
    "\n",
    "[1 point]"
   ]
  },
  {
   "cell_type": "code",
   "execution_count": 316,
   "metadata": {
    "deletable": false,
    "nbgrader": {
     "cell_type": "code",
     "checksum": "2e18b3febf965d6dbef9e6b23a0f896d",
     "grade": false,
     "grade_id": "cell-f178c23df522f905",
     "locked": false,
     "schema_version": 3,
     "solution": true
    }
   },
   "outputs": [],
   "source": [
    "def evens(x):\n",
    "    \n",
    "    list_=[]\n",
    "    \n",
    "    for i in range(x):\n",
    "        if i % 2:\n",
    "            continue  # Stop this run, jump to top of for loop\n",
    "        else:\n",
    "            list_.append(i)\n",
    "            \n",
    "    return list_\n",
    "        "
   ]
  },
  {
   "cell_type": "code",
   "execution_count": 317,
   "metadata": {},
   "outputs": [
    {
     "data": {
      "text/plain": [
       "[0, 2, 4, 6, 8]"
      ]
     },
     "execution_count": 317,
     "metadata": {},
     "output_type": "execute_result"
    }
   ],
   "source": [
    "evens (10)"
   ]
  },
  {
   "cell_type": "code",
   "execution_count": null,
   "metadata": {
    "deletable": false,
    "editable": false,
    "nbgrader": {
     "cell_type": "code",
     "checksum": "b3a66fc35568a9f5e3117a846fb138f8",
     "grade": true,
     "grade_id": "cell-80b80f97d1d635e1",
     "locked": true,
     "points": 0.25,
     "schema_version": 3,
     "solution": false
    }
   },
   "outputs": [],
   "source": []
  },
  {
   "cell_type": "code",
   "execution_count": null,
   "metadata": {
    "deletable": false,
    "editable": false,
    "nbgrader": {
     "cell_type": "code",
     "checksum": "61e36892ed0b01ba6ed4f142fa8a806d",
     "grade": true,
     "grade_id": "cell-6d57f030024737d2",
     "locked": true,
     "points": 0.25,
     "schema_version": 3,
     "solution": false
    }
   },
   "outputs": [],
   "source": []
  },
  {
   "cell_type": "code",
   "execution_count": null,
   "metadata": {
    "deletable": false,
    "editable": false,
    "nbgrader": {
     "cell_type": "code",
     "checksum": "2edab7d7c8b79f9be07e815af0b4e679",
     "grade": true,
     "grade_id": "cell-ed8531a55caf7739",
     "locked": true,
     "points": 0.25,
     "schema_version": 3,
     "solution": false
    }
   },
   "outputs": [],
   "source": []
  },
  {
   "cell_type": "code",
   "execution_count": null,
   "metadata": {
    "deletable": false,
    "editable": false,
    "nbgrader": {
     "cell_type": "code",
     "checksum": "a706ea5165f9b91a685916c166b1e3d7",
     "grade": true,
     "grade_id": "cell-f78b76614fd7bb17",
     "locked": true,
     "points": 0.25,
     "schema_version": 3,
     "solution": false
    }
   },
   "outputs": [],
   "source": []
  },
  {
   "cell_type": "markdown",
   "metadata": {
    "deletable": false,
    "editable": false,
    "nbgrader": {
     "cell_type": "markdown",
     "checksum": "404456c2994cbe3e43708b994192dd10",
     "grade": false,
     "grade_id": "cell-cc0ebc23a3ccd5bd",
     "locked": true,
     "schema_version": 3,
     "solution": false
    }
   },
   "source": [
    "**Q**: Implement Fizz-Buzz. Write a function `fizz_buzz` that returns the number given. \n",
    "\n",
    "But for multiples of two return \"Fizz\" instead of the number, for the multiples of three return \"Buzz\", and for the multiples of five return \"Bang\". For numbers which are multiples of both two and three return \"FizzBuzz\". For numbers which are multiples of two, three, and five return \"FizzBuzzBang\". Assume only positive numbers will be passed to the function. \n",
    "\n",
    "Order of precedence should be as follows (first has the highest precedence):\n",
    "\n",
    "    - FizzBuzzBang\n",
    "    - FizzBuzz\n",
    "    - Bang\n",
    "    - Buzz\n",
    "    - Fizz\n",
    "\n",
    "\n",
    "[2 points]"
   ]
  },
  {
   "cell_type": "code",
   "execution_count": 151,
   "metadata": {
    "deletable": false,
    "nbgrader": {
     "cell_type": "code",
     "checksum": "cfde7df756acdebb4489a5116fde217e",
     "grade": false,
     "grade_id": "cell-fda6d5a34cfe1fec",
     "locked": false,
     "schema_version": 3,
     "solution": true
    }
   },
   "outputs": [],
   "source": [
    "def fizz_buzz(i):\n",
    "    if i%2== 0 and i%3== 0 and i%5== 0:\n",
    "        return 'FizzBuzzBang'\n",
    "    elif i%2== 0 and i%3== 0:\n",
    "        return 'FizzBuzz'\n",
    "    elif i%5 == 0:\n",
    "        return 'Bang' \n",
    "    elif i%3 == 0:\n",
    "        return 'Buzz'\n",
    "    elif i%2 == 0:\n",
    "        return 'Fizz'\n",
    "    else:\n",
    "        return i\n",
    "\n"
   ]
  },
  {
   "cell_type": "code",
   "execution_count": 149,
   "metadata": {},
   "outputs": [
    {
     "data": {
      "text/plain": [
       "'Fizzbuzz'"
      ]
     },
     "execution_count": 149,
     "metadata": {},
     "output_type": "execute_result"
    }
   ],
   "source": [
    "fizz_buzz(6)"
   ]
  },
  {
   "cell_type": "code",
   "execution_count": 142,
   "metadata": {
    "deletable": false,
    "editable": false,
    "nbgrader": {
     "cell_type": "code",
     "checksum": "fecf7303768178eeaabe83f9e4c80ddf",
     "grade": true,
     "grade_id": "cell-edc1cee03a574266",
     "locked": true,
     "points": 0.25,
     "schema_version": 3,
     "solution": false
    }
   },
   "outputs": [],
   "source": [
    "### BEGIN TESTS\n",
    "assert fizz_buzz(1) == 1\n",
    "### END TESTS"
   ]
  },
  {
   "cell_type": "code",
   "execution_count": 143,
   "metadata": {
    "deletable": false,
    "editable": false,
    "nbgrader": {
     "cell_type": "code",
     "checksum": "2ee9916c49e74fc63981c2a796e6e650",
     "grade": true,
     "grade_id": "cell-4f8d689ae39f86b7",
     "locked": true,
     "points": 0.25,
     "schema_version": 3,
     "solution": false
    }
   },
   "outputs": [],
   "source": [
    "### BEGIN TESTS\n",
    "assert fizz_buzz(2) == 'Fizz'\n",
    "### END TESTS"
   ]
  },
  {
   "cell_type": "code",
   "execution_count": 144,
   "metadata": {
    "deletable": false,
    "editable": false,
    "nbgrader": {
     "cell_type": "code",
     "checksum": "eda1cc1c5c20e7ba67eab95a42ed8073",
     "grade": true,
     "grade_id": "cell-3243239057da9c5d",
     "locked": true,
     "points": 0.25,
     "schema_version": 3,
     "solution": false
    }
   },
   "outputs": [],
   "source": [
    "### BEGIN TESTS\n",
    "assert fizz_buzz(3) == 'Buzz'\n",
    "### END TESTS"
   ]
  },
  {
   "cell_type": "code",
   "execution_count": 145,
   "metadata": {
    "deletable": false,
    "editable": false,
    "nbgrader": {
     "cell_type": "code",
     "checksum": "6521f749f024c86720dba4313681edca",
     "grade": true,
     "grade_id": "cell-f6dc4ad9f061fe39",
     "locked": true,
     "points": 0.25,
     "schema_version": 3,
     "solution": false
    }
   },
   "outputs": [],
   "source": [
    "### BEGIN TESTS\n",
    "assert fizz_buzz(5) == 'Bang'\n",
    "### END TESTS"
   ]
  },
  {
   "cell_type": "code",
   "execution_count": 152,
   "metadata": {
    "deletable": false,
    "editable": false,
    "nbgrader": {
     "cell_type": "code",
     "checksum": "9dcaded28e2a867b1cdab2f9347627e0",
     "grade": true,
     "grade_id": "cell-946d26b610de6b73",
     "locked": true,
     "points": 0.25,
     "schema_version": 3,
     "solution": false
    }
   },
   "outputs": [],
   "source": [
    "### BEGIN TESTS\n",
    "assert fizz_buzz(6) == 'FizzBuzz'\n",
    "### END TESTS"
   ]
  },
  {
   "cell_type": "code",
   "execution_count": 153,
   "metadata": {
    "deletable": false,
    "editable": false,
    "nbgrader": {
     "cell_type": "code",
     "checksum": "033d9a13361c60c8218c6818ee62e8f7",
     "grade": true,
     "grade_id": "cell-f9b98e67123e3631",
     "locked": true,
     "points": 0.25,
     "schema_version": 3,
     "solution": false
    }
   },
   "outputs": [],
   "source": [
    "### BEGIN TESTS\n",
    "assert fizz_buzz(30) == 'FizzBuzzBang'\n",
    "### END TESTS"
   ]
  },
  {
   "cell_type": "code",
   "execution_count": null,
   "metadata": {
    "deletable": false,
    "editable": false,
    "nbgrader": {
     "cell_type": "code",
     "checksum": "05198b81d93ca3493db2ca01a3541040",
     "grade": true,
     "grade_id": "cell-eb510034e9d6fb63",
     "locked": true,
     "points": 0.5,
     "schema_version": 3,
     "solution": false
    }
   },
   "outputs": [],
   "source": []
  },
  {
   "cell_type": "markdown",
   "metadata": {
    "deletable": false,
    "editable": false,
    "nbgrader": {
     "cell_type": "markdown",
     "checksum": "79d0d51373f152bb33d81afa13770c1e",
     "grade": false,
     "grade_id": "cell-e0568aa11c90c0ea",
     "locked": true,
     "schema_version": 3,
     "solution": false
    }
   },
   "source": [
    "**Q**: Write a function `compress` that takes a string of characters, counts each occurrence of each character, and produces a compressed string with each character and its count. For example:\n",
    "\n",
    "`'aaaabbbbcc'` would compress to `'a4b4c2'`\n",
    "\n",
    "You can assume that the source string will be lowercase and sorted such that like characters are adjacent. The result string should be sorted. You do not have to consider infinite strings.\n",
    "\n",
    "[2 points]"
   ]
  },
  {
   "cell_type": "code",
   "execution_count": 274,
   "metadata": {},
   "outputs": [],
   "source": [
    "def compress(letter_string):\n",
    "\n",
    "    ch = \"\"\n",
    "\n",
    "    count = 1\n",
    "\n",
    "    #Add in first character\n",
    "    ch += letter_string[0]\n",
    "\n",
    "    #Iterate through loop, skipping last one\n",
    "    for i in range(len(letter_string)-1):\n",
    "        if(letter_string[i] == letter_string[i+1]):\n",
    "            count+=1\n",
    "        else:\n",
    "            if (count > 1):\n",
    "                #Ignore if no repeats\n",
    "                ch += str(count)\n",
    "            ch += letter_string[i+1]\n",
    "            count = 1\n",
    "            \n",
    "    #print last one\n",
    "    if(count > 1):\n",
    "        ch += str(count)\n",
    "    return ch"
   ]
  },
  {
   "cell_type": "code",
   "execution_count": 275,
   "metadata": {},
   "outputs": [
    {
     "data": {
      "text/plain": [
       "'a4b4c2'"
      ]
     },
     "execution_count": 275,
     "metadata": {},
     "output_type": "execute_result"
    }
   ],
   "source": [
    "compress ('aaaabbbbcc')"
   ]
  },
  {
   "cell_type": "code",
   "execution_count": 247,
   "metadata": {
    "deletable": false,
    "nbgrader": {
     "cell_type": "code",
     "checksum": "810f6d072a12498a23df6ce743a24f26",
     "grade": false,
     "grade_id": "cell-63c10b65c17caab0",
     "locked": false,
     "schema_version": 3,
     "solution": true
    }
   },
   "outputs": [],
   "source": [
    "\n",
    "   \n",
    "    "
   ]
  },
  {
   "cell_type": "code",
   "execution_count": 256,
   "metadata": {
    "deletable": false,
    "editable": false,
    "nbgrader": {
     "cell_type": "code",
     "checksum": "d5b56fb42ce82e6039afce8dbd4ca4bb",
     "grade": true,
     "grade_id": "cell-8d41bb3300810b31",
     "locked": true,
     "points": 0.25,
     "schema_version": 3,
     "solution": false
    }
   },
   "outputs": [],
   "source": [
    "### BEGIN TESTS\n",
    "assert compress('aaaabbbbcccc') == 'a4b4c4'\n",
    "### END TESTS"
   ]
  },
  {
   "cell_type": "code",
   "execution_count": 257,
   "metadata": {
    "deletable": false,
    "editable": false,
    "nbgrader": {
     "cell_type": "code",
     "checksum": "c622aa4452601a16af3ee2ce891ef221",
     "grade": true,
     "grade_id": "cell-c1e4fb7f6d092598",
     "locked": true,
     "points": 0.25,
     "schema_version": 3,
     "solution": false,
     "task": false
    }
   },
   "outputs": [
    {
     "ename": "IndexError",
     "evalue": "string index out of range",
     "output_type": "error",
     "traceback": [
      "\u001b[0;31m---------------------------------------------------------------------------\u001b[0m",
      "\u001b[0;31mIndexError\u001b[0m                                Traceback (most recent call last)",
      "\u001b[0;32m<ipython-input-257-7e2ad247bef2>\u001b[0m in \u001b[0;36m<module>\u001b[0;34m\u001b[0m\n\u001b[1;32m      1\u001b[0m \u001b[0;31m### BEGIN TESTS\u001b[0m\u001b[0;34m\u001b[0m\u001b[0;34m\u001b[0m\u001b[0;34m\u001b[0m\u001b[0m\n\u001b[0;32m----> 2\u001b[0;31m \u001b[0;32massert\u001b[0m \u001b[0mcompress\u001b[0m\u001b[0;34m(\u001b[0m\u001b[0;34m''\u001b[0m\u001b[0;34m)\u001b[0m \u001b[0;34m==\u001b[0m \u001b[0;34m''\u001b[0m\u001b[0;34m\u001b[0m\u001b[0;34m\u001b[0m\u001b[0m\n\u001b[0m\u001b[1;32m      3\u001b[0m \u001b[0;31m### END TESTS\u001b[0m\u001b[0;34m\u001b[0m\u001b[0;34m\u001b[0m\u001b[0;34m\u001b[0m\u001b[0m\n",
      "\u001b[0;32m<ipython-input-255-6b7af650644a>\u001b[0m in \u001b[0;36mcompress\u001b[0;34m(letter_string)\u001b[0m\n\u001b[1;32m      6\u001b[0m \u001b[0;34m\u001b[0m\u001b[0m\n\u001b[1;32m      7\u001b[0m     \u001b[0;31m#Add in first character\u001b[0m\u001b[0;34m\u001b[0m\u001b[0;34m\u001b[0m\u001b[0;34m\u001b[0m\u001b[0m\n\u001b[0;32m----> 8\u001b[0;31m     \u001b[0mch\u001b[0m \u001b[0;34m+=\u001b[0m \u001b[0mletter_string\u001b[0m\u001b[0;34m[\u001b[0m\u001b[0;36m0\u001b[0m\u001b[0;34m]\u001b[0m\u001b[0;34m\u001b[0m\u001b[0;34m\u001b[0m\u001b[0m\n\u001b[0m\u001b[1;32m      9\u001b[0m \u001b[0;34m\u001b[0m\u001b[0m\n\u001b[1;32m     10\u001b[0m     \u001b[0;31m#Iterate through loop, skipping last one\u001b[0m\u001b[0;34m\u001b[0m\u001b[0;34m\u001b[0m\u001b[0;34m\u001b[0m\u001b[0m\n",
      "\u001b[0;31mIndexError\u001b[0m: string index out of range"
     ]
    }
   ],
   "source": [
    "### BEGIN TESTS\n",
    "assert compress('') == ''\n",
    "### END TESTS"
   ]
  },
  {
   "cell_type": "code",
   "execution_count": null,
   "metadata": {
    "deletable": false,
    "editable": false,
    "nbgrader": {
     "cell_type": "code",
     "checksum": "2002f52199430ee207cdc571da03b835",
     "grade": true,
     "grade_id": "cell-7b5d55b9412941b1",
     "locked": true,
     "points": 0.25,
     "schema_version": 3,
     "solution": false
    }
   },
   "outputs": [],
   "source": []
  },
  {
   "cell_type": "code",
   "execution_count": null,
   "metadata": {
    "deletable": false,
    "editable": false,
    "nbgrader": {
     "cell_type": "code",
     "checksum": "001e86614caaa6a989783da7a1340b2f",
     "grade": true,
     "grade_id": "cell-452132470fcbd7f8",
     "locked": true,
     "points": 0.25,
     "schema_version": 3,
     "solution": false,
     "task": false
    }
   },
   "outputs": [],
   "source": []
  },
  {
   "cell_type": "code",
   "execution_count": null,
   "metadata": {
    "deletable": false,
    "editable": false,
    "nbgrader": {
     "cell_type": "code",
     "checksum": "2151748a1dd0033418104f20e0881257",
     "grade": true,
     "grade_id": "cell-33ec73d3be0d6640",
     "locked": true,
     "points": 1,
     "schema_version": 3,
     "solution": false
    }
   },
   "outputs": [],
   "source": []
  },
  {
   "cell_type": "markdown",
   "metadata": {
    "deletable": false,
    "editable": false,
    "nbgrader": {
     "cell_type": "markdown",
     "checksum": "0644c4c8004f0753fab27d700120ba98",
     "grade": false,
     "grade_id": "cell-66a3fff05dbbf40c",
     "locked": true,
     "schema_version": 3,
     "solution": false
    }
   },
   "source": [
    "**Q**: Write a function `endpoints` that takes a list of numbers (eg. `[5, 10, 15, 20, 25]`) and returns a new list of only the first and last elements of the given list (eg. `[5, 25]`). If the input list is `[5]`, the returned should be `[5,5]`. The function should return an empty list if an empty list is passed in. The function should *not* use any variables besides the passed in argument `list_`. \n",
    "\n",
    "[1 point]"
   ]
  },
  {
   "cell_type": "code",
   "execution_count": 276,
   "metadata": {
    "deletable": false,
    "nbgrader": {
     "cell_type": "code",
     "checksum": "afcd71a548f234ec03966c698ed317d7",
     "grade": false,
     "grade_id": "cell-e06b186eadc3d5c3",
     "locked": false,
     "schema_version": 3,
     "solution": true
    }
   },
   "outputs": [],
   "source": [
    "def endpoints(list_) -> list:\n",
    "    if len(list_) > 0:\n",
    "        return [list_[0], list_[len(list_) -1]]\n",
    "    elif len(list_) == 0:\n",
    "            return[]\n",
    "    "
   ]
  },
  {
   "cell_type": "code",
   "execution_count": 277,
   "metadata": {},
   "outputs": [
    {
     "data": {
      "text/plain": [
       "[5, 25]"
      ]
     },
     "execution_count": 277,
     "metadata": {},
     "output_type": "execute_result"
    }
   ],
   "source": [
    "endpoints (list_= [5, 10, 15, 20, 25])"
   ]
  },
  {
   "cell_type": "code",
   "execution_count": 278,
   "metadata": {
    "deletable": false,
    "editable": false,
    "nbgrader": {
     "cell_type": "code",
     "checksum": "ef9c7930622cb15711ed8a6ea1efa6de",
     "grade": true,
     "grade_id": "cell-34da01cd23f4b977",
     "locked": true,
     "points": 0.25,
     "schema_version": 3,
     "solution": false
    }
   },
   "outputs": [],
   "source": [
    "### BEGIN TESTS\n",
    "assert endpoints([5, 10, 15, 20, 25]) == [5, 25]\n",
    "### END TESTS"
   ]
  },
  {
   "cell_type": "code",
   "execution_count": 279,
   "metadata": {
    "deletable": false,
    "editable": false,
    "nbgrader": {
     "cell_type": "code",
     "checksum": "7fc9e737d0b1af0a241f5194893cc243",
     "grade": true,
     "grade_id": "cell-4213240953c44e89",
     "locked": true,
     "points": 0.25,
     "schema_version": 3,
     "solution": false,
     "task": false
    }
   },
   "outputs": [],
   "source": [
    "### BEGIN TESTS\n",
    "assert endpoints([5]) == [5, 5]\n",
    "### END TESTS"
   ]
  },
  {
   "cell_type": "code",
   "execution_count": 280,
   "metadata": {
    "deletable": false,
    "editable": false,
    "nbgrader": {
     "cell_type": "code",
     "checksum": "661b8f50c9edc27959dfde5710cf393c",
     "grade": true,
     "grade_id": "cell-937bfddae54d8418",
     "locked": true,
     "points": 0.25,
     "schema_version": 3,
     "solution": false,
     "task": false
    }
   },
   "outputs": [],
   "source": [
    "### BEGIN TESTS\n",
    "assert endpoints([]) == []\n",
    "### END TESTS"
   ]
  },
  {
   "cell_type": "code",
   "execution_count": null,
   "metadata": {
    "deletable": false,
    "editable": false,
    "nbgrader": {
     "cell_type": "code",
     "checksum": "dcd6f496cd924cf1a0dafdb92aa32ad8",
     "grade": true,
     "grade_id": "cell-f7e7bb26b30ed92a",
     "locked": true,
     "points": 0.25,
     "schema_version": 3,
     "solution": false
    }
   },
   "outputs": [],
   "source": []
  },
  {
   "cell_type": "markdown",
   "metadata": {
    "deletable": false,
    "editable": false,
    "nbgrader": {
     "cell_type": "markdown",
     "checksum": "9759c5fa016cd4e4be063ad739de0358",
     "grade": false,
     "grade_id": "cell-12d642e15c349c03",
     "locked": true,
     "schema_version": 3,
     "solution": false,
     "task": false
    }
   },
   "source": [
    "**Q**: Write a function `common` that consumes two lists and that produces a list that contains only the common elements (without duplicates). Make sure your program works on two lists of different sizes and returns the common elements in sorted ascending order.\n",
    "\n",
    "\n",
    "```python\n",
    "a = [1, 1, 2, 3, 5, 8, 13, 21, 34, 55, 89]\n",
    "b = [1, 2, 3, 4, 5, 6, 7, 8, 9, 10, 11, 12, 13]\n",
    "\n",
    "# result\n",
    "[1, 2, 3, 5, 8, 13]\n",
    "```\n",
    "\n",
    "[1 point]"
   ]
  },
  {
   "cell_type": "code",
   "execution_count": 284,
   "metadata": {
    "deletable": false,
    "nbgrader": {
     "cell_type": "code",
     "checksum": "d2b4e6ad63f3ee41dca8c2327b289435",
     "grade": false,
     "grade_id": "cell-1ab667ab32f392f9",
     "locked": false,
     "schema_version": 3,
     "solution": true
    }
   },
   "outputs": [],
   "source": [
    "def common(a, b):\n",
    "    intersection_ = sorted(list(set(a) & set(b)))\n",
    "    return (intersection_)"
   ]
  },
  {
   "cell_type": "code",
   "execution_count": 285,
   "metadata": {},
   "outputs": [],
   "source": [
    "a= [1, 1, 2, 3, 5, 8, 13, 21, 34, 55, 89]\n",
    "b= [1, 2, 3, 4, 5, 6, 7, 8, 9, 10, 11, 12, 13]"
   ]
  },
  {
   "cell_type": "code",
   "execution_count": 286,
   "metadata": {},
   "outputs": [
    {
     "data": {
      "text/plain": [
       "[1, 2, 3, 5, 8, 13]"
      ]
     },
     "execution_count": 286,
     "metadata": {},
     "output_type": "execute_result"
    }
   ],
   "source": [
    "common (a,b)"
   ]
  },
  {
   "cell_type": "code",
   "execution_count": null,
   "metadata": {
    "deletable": false,
    "editable": false,
    "nbgrader": {
     "cell_type": "code",
     "checksum": "4883594bc78ee9797d43d431b478afe6",
     "grade": true,
     "grade_id": "cell-8cd8aa2c0c722e82",
     "locked": true,
     "points": 0.25,
     "schema_version": 3,
     "solution": false
    }
   },
   "outputs": [],
   "source": []
  },
  {
   "cell_type": "code",
   "execution_count": null,
   "metadata": {
    "deletable": false,
    "editable": false,
    "nbgrader": {
     "cell_type": "code",
     "checksum": "d72cd5addeb6cab53e09026139eb0518",
     "grade": true,
     "grade_id": "cell-d34f7455af277388",
     "locked": true,
     "points": 0.25,
     "schema_version": 3,
     "solution": false,
     "task": false
    }
   },
   "outputs": [],
   "source": []
  },
  {
   "cell_type": "code",
   "execution_count": null,
   "metadata": {
    "deletable": false,
    "editable": false,
    "nbgrader": {
     "cell_type": "code",
     "checksum": "43a5c029ebf4440d66a78f26797d2727",
     "grade": true,
     "grade_id": "cell-20a69ef37fafeefe",
     "locked": true,
     "points": 0.25,
     "schema_version": 3,
     "solution": false,
     "task": false
    }
   },
   "outputs": [],
   "source": []
  },
  {
   "cell_type": "code",
   "execution_count": null,
   "metadata": {
    "deletable": false,
    "editable": false,
    "nbgrader": {
     "cell_type": "code",
     "checksum": "d113c140249574d094dc411a7e77f576",
     "grade": true,
     "grade_id": "cell-44b0495063426268",
     "locked": true,
     "points": 0.25,
     "schema_version": 3,
     "solution": false,
     "task": false
    }
   },
   "outputs": [],
   "source": []
  },
  {
   "cell_type": "markdown",
   "metadata": {
    "deletable": false,
    "editable": false,
    "nbgrader": {
     "cell_type": "markdown",
     "checksum": "433f58376544a12791801edb815093eb",
     "grade": false,
     "grade_id": "cell-cdc00988709a3b2e",
     "locked": true,
     "schema_version": 3,
     "solution": false
    }
   },
   "source": [
    "**Q**: Create a function `get_lambda` that returns a `lambda` function that will return a tuple containing N instances of a given value.\n",
    "\n",
    "```python\n",
    ">>> f = get_lambda()\n",
    ">>> f(4, True)\n",
    "(True, True, True, True)\n",
    "```\n",
    "\n",
    "[1 point]"
   ]
  },
  {
   "cell_type": "code",
   "execution_count": 302,
   "metadata": {
    "deletable": false,
    "nbgrader": {
     "cell_type": "code",
     "checksum": "ba04d3bc15ceab499469ea58fc288124",
     "grade": false,
     "grade_id": "cell-440167c0cf8ec924",
     "locked": false,
     "schema_version": 3,
     "solution": true
    }
   },
   "outputs": [
    {
     "data": {
      "text/plain": [
       "(True, True, True, True)"
      ]
     },
     "execution_count": 302,
     "metadata": {},
     "output_type": "execute_result"
    }
   ],
   "source": [
    "def get_lambda():\n",
    "    return lambda n, y : tuple ((y,) *n)\n",
    "\n",
    "f= get_lambda()\n",
    "f(4, True)"
   ]
  },
  {
   "cell_type": "code",
   "execution_count": 297,
   "metadata": {
    "deletable": false,
    "editable": false,
    "nbgrader": {
     "cell_type": "code",
     "checksum": "eea37dd7cad6ccc10d23b63e70a94784",
     "grade": true,
     "grade_id": "cell-bf1ea39119b33fad",
     "locked": true,
     "points": 0.25,
     "schema_version": 3,
     "solution": false
    }
   },
   "outputs": [],
   "source": [
    "### BEGIN TESTS\n",
    "assert get_lambda()(4, True) == (True, True, True, True)\n",
    "### END TESTS"
   ]
  },
  {
   "cell_type": "code",
   "execution_count": 294,
   "metadata": {
    "deletable": false,
    "editable": false,
    "nbgrader": {
     "cell_type": "code",
     "checksum": "88b29b5da89b32f3c5f14ca464750dae",
     "grade": true,
     "grade_id": "cell-ec54f14526aa32d6",
     "locked": true,
     "points": 0.25,
     "schema_version": 3,
     "solution": false,
     "task": false
    }
   },
   "outputs": [],
   "source": [
    "## BEGIN TESTS\n",
    "assert get_lambda()(0, True) == ()\n",
    "### END TESTS"
   ]
  },
  {
   "cell_type": "code",
   "execution_count": 318,
   "metadata": {
    "deletable": false,
    "editable": false,
    "nbgrader": {
     "cell_type": "code",
     "checksum": "09bf2711bd9d191b168da9e218795ba8",
     "grade": true,
     "grade_id": "cell-4d92557c1e003a38",
     "locked": true,
     "points": 0.25,
     "schema_version": 3,
     "solution": false,
     "task": false
    }
   },
   "outputs": [],
   "source": [
    "## BEGIN TESTS\n",
    "assert get_lambda()(1, None) == (None,)\n",
    "### END TESTS"
   ]
  },
  {
   "cell_type": "code",
   "execution_count": null,
   "metadata": {
    "deletable": false,
    "editable": false,
    "nbgrader": {
     "cell_type": "code",
     "checksum": "5da1e49ef783b1efb6539ba5d8cb70b2",
     "grade": true,
     "grade_id": "cell-d1f15d8c975bef1e",
     "locked": true,
     "points": 0.25,
     "schema_version": 3,
     "solution": false
    }
   },
   "outputs": [],
   "source": []
  },
  {
   "cell_type": "markdown",
   "metadata": {},
   "source": [
    "**Q**: Create a function `get_lambda` that returns a `lambda` function that takes a tuple and raises each element in the tuple to the second power.\n",
    "\n",
    "```python\n",
    ">>> f = get_lambda()\n",
    ">>> f((1, 2, 3, 4))\n",
    "(1, 4, 9, 16)\n",
    "```\n",
    "[1 point]"
   ]
  },
  {
   "cell_type": "code",
   "execution_count": 298,
   "metadata": {
    "deletable": false,
    "nbgrader": {
     "cell_type": "code",
     "checksum": "4b6e08f4e3e4741c0c2186c34343b91e",
     "grade": false,
     "grade_id": "cell-70896f7d7cc69cde",
     "locked": false,
     "schema_version": 3,
     "solution": true
    }
   },
   "outputs": [
    {
     "data": {
      "text/plain": [
       "(1, 4, 9, 16)"
      ]
     },
     "execution_count": 298,
     "metadata": {},
     "output_type": "execute_result"
    }
   ],
   "source": [
    "def get_lambda():\n",
    "    return lambda tuple_new: tuple(i ** 2 for i in tuple_new)\n",
    "\n",
    "(get_lambda()((1,2,3,4)))"
   ]
  },
  {
   "cell_type": "code",
   "execution_count": 299,
   "metadata": {
    "deletable": false,
    "editable": false,
    "nbgrader": {
     "cell_type": "code",
     "checksum": "ed5782c925f121adfea8dcd700948c6f",
     "grade": true,
     "grade_id": "cell-2107d7a4f3fef8f6",
     "locked": true,
     "points": 0.25,
     "schema_version": 3,
     "solution": false
    }
   },
   "outputs": [],
   "source": [
    "### BEGIN TESTS\n",
    "assert get_lambda()((1, 2, 3, 4)) == (1, 4, 9, 16)\n",
    "### END TESTS"
   ]
  },
  {
   "cell_type": "code",
   "execution_count": 300,
   "metadata": {
    "deletable": false,
    "editable": false,
    "nbgrader": {
     "cell_type": "code",
     "checksum": "f386cb7a2ddfba85e94b4599d865ef7d",
     "grade": true,
     "grade_id": "cell-35ff1d591d42549f",
     "locked": true,
     "points": 0.25,
     "schema_version": 3,
     "solution": false,
     "task": false
    }
   },
   "outputs": [],
   "source": [
    "### BEGIN TESTS\n",
    "assert get_lambda()((-1, -2, -3, -4)) == (1, 4, 9, 16)\n",
    "### END TESTS"
   ]
  },
  {
   "cell_type": "code",
   "execution_count": 301,
   "metadata": {
    "deletable": false,
    "editable": false,
    "nbgrader": {
     "cell_type": "code",
     "checksum": "c4b66e237d340968ba484fdab3a2e0fc",
     "grade": true,
     "grade_id": "cell-d05e40948bceb37a",
     "locked": true,
     "points": 0.25,
     "schema_version": 3,
     "solution": false,
     "task": false
    }
   },
   "outputs": [],
   "source": [
    "### BEGIN TESTS\n",
    "assert get_lambda()(()) == ()\n",
    "### END TESTS"
   ]
  },
  {
   "cell_type": "code",
   "execution_count": null,
   "metadata": {
    "deletable": false,
    "editable": false,
    "nbgrader": {
     "cell_type": "code",
     "checksum": "da82b0c27946020e39371baa7fe8a4b2",
     "grade": true,
     "grade_id": "cell-7b39c52cfbb8fe3a",
     "locked": true,
     "points": 0.25,
     "schema_version": 3,
     "solution": false
    }
   },
   "outputs": [],
   "source": []
  },
  {
   "cell_type": "markdown",
   "metadata": {
    "deletable": false,
    "editable": false,
    "nbgrader": {
     "cell_type": "markdown",
     "checksum": "65c7fde3c8f729965262a46f1507b277",
     "grade": false,
     "grade_id": "cell-caa4d6e3473994b3",
     "locked": true,
     "schema_version": 3,
     "solution": false
    }
   },
   "source": [
    "##### Extra Practice\n",
    "\n",
    "Extra Practice problems are exactly that: extra practice. They are not worth any points or extra credit."
   ]
  },
  {
   "cell_type": "markdown",
   "metadata": {
    "deletable": false,
    "editable": false,
    "nbgrader": {
     "cell_type": "markdown",
     "checksum": "034d409b368068213241b0be04faaa38",
     "grade": false,
     "grade_id": "cell-7de4d9823df7a24a",
     "locked": true,
     "schema_version": 3,
     "solution": false
    }
   },
   "source": [
    "**Extra Practice**: Create a function that returns a list that contains itself as its one and only element. \n",
    "\n",
    "[0 points]"
   ]
  },
  {
   "cell_type": "code",
   "execution_count": null,
   "metadata": {
    "deletable": false,
    "nbgrader": {
     "cell_type": "code",
     "checksum": "728769289933093a6b7b36c5d6ccdd47",
     "grade": false,
     "grade_id": "cell-3af2459c61b6c472",
     "locked": false,
     "schema_version": 3,
     "solution": true
    }
   },
   "outputs": [],
   "source": [
    "def itself():\n",
    "    # YOUR CODE HERE\n",
    "    raise NotImplementedError()"
   ]
  },
  {
   "cell_type": "code",
   "execution_count": null,
   "metadata": {
    "deletable": false,
    "editable": false,
    "nbgrader": {
     "cell_type": "code",
     "checksum": "9ae8cfa688bf9927d3e36398c8dad0fa",
     "grade": true,
     "grade_id": "cell-6dbaa09e08641787",
     "locked": true,
     "points": 0,
     "schema_version": 3,
     "solution": false
    }
   },
   "outputs": [],
   "source": [
    "### BEGIN TESTS\n",
    "list_ = itself()\n",
    "assert list_ is list_[0]\n",
    "### END TESTS"
   ]
  },
  {
   "cell_type": "markdown",
   "metadata": {
    "deletable": false,
    "editable": false,
    "nbgrader": {
     "cell_type": "markdown",
     "checksum": "cf0742ac3f080d8c8ef8ba5805e11012",
     "grade": false,
     "grade_id": "cell-a3b56212a12c4f35",
     "locked": true,
     "schema_version": 3,
     "solution": false
    }
   },
   "source": [
    "**Extra Practice**: Create a function that returns the first positive integer for which Python does not create a singleton. What about the negative integer closest to zero? \n",
    "\n",
    "[0 points]"
   ]
  },
  {
   "cell_type": "code",
   "execution_count": null,
   "metadata": {
    "deletable": false,
    "nbgrader": {
     "cell_type": "code",
     "checksum": "fb5e267fbb7efbd4f3f7c415c103c14b",
     "grade": false,
     "grade_id": "cell-6f599029a544dfcd",
     "locked": false,
     "schema_version": 3,
     "solution": true
    }
   },
   "outputs": [],
   "source": [
    "def first_non_singleton():\n",
    "    # YOUR CODE HERE\n",
    "    raise NotImplementedError()"
   ]
  },
  {
   "cell_type": "code",
   "execution_count": null,
   "metadata": {
    "deletable": false,
    "editable": false,
    "nbgrader": {
     "cell_type": "code",
     "checksum": "57b54e2c19533f3fe604811f096a87b1",
     "grade": true,
     "grade_id": "cell-8a115bd7fb268cc5",
     "locked": true,
     "points": 0,
     "schema_version": 3,
     "solution": false
    }
   },
   "outputs": [],
   "source": []
  },
  {
   "cell_type": "code",
   "execution_count": null,
   "metadata": {
    "deletable": false,
    "nbgrader": {
     "cell_type": "code",
     "checksum": "9a706ab009e0d8ac2927270754f3310c",
     "grade": false,
     "grade_id": "cell-f5077f7c620f08cb",
     "locked": false,
     "schema_version": 3,
     "solution": true
    }
   },
   "outputs": [],
   "source": [
    "def last_negative_non_singleton():\n",
    "    # YOUR CODE HERE\n",
    "    raise NotImplementedError()"
   ]
  },
  {
   "cell_type": "code",
   "execution_count": null,
   "metadata": {
    "deletable": false,
    "editable": false,
    "nbgrader": {
     "cell_type": "code",
     "checksum": "9990688d251d16f12d76a8737dd045db",
     "grade": true,
     "grade_id": "cell-4ea5e3cac5553b11",
     "locked": true,
     "points": 0,
     "schema_version": 3,
     "solution": false
    }
   },
   "outputs": [],
   "source": []
  }
 ],
 "metadata": {
  "anaconda-cloud": {},
  "kernelspec": {
   "display_name": "Python 3",
   "language": "python",
   "name": "python3"
  },
  "language_info": {
   "codemirror_mode": {
    "name": "ipython",
    "version": 3
   },
   "file_extension": ".py",
   "mimetype": "text/x-python",
   "name": "python",
   "nbconvert_exporter": "python",
   "pygments_lexer": "ipython3",
   "version": "3.8.5"
  }
 },
 "nbformat": 4,
 "nbformat_minor": 2
}
