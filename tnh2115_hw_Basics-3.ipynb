{
 "cells": [
  {
   "cell_type": "markdown",
   "metadata": {},
   "source": [
    "<subject>\n",
    "Assignment How-To\n",
    "</subject>\n",
    "\n",
    "<details>\n",
    "    \n",
    "**Do Not Talk During Quizzes or Exams**\n",
    "\n",
    "Do not talk at all once an exam has begun. You may talk again once you leave the room after the quiz or exam. The one exception to this rule is if you need to ask the exam proctor a question. Any talking during a quiz or exam qualifies the student for disciplinary action.\n",
    "\n",
    "**Naming Conventions**\n",
    "\n",
    "When naming your files for upload, you must follow the format below:\n",
    "\n",
    "    <uni>_<assignment>_<details [optional]>.<extension>\n",
    "\n",
    "For example, if I needed to hand in HW 0, any of the below formats would be sufficient for a file name:\n",
    "\n",
    "- pl2648_hw0.ipynb\n",
    "- pl2648_hw0.txt\n",
    "- pl2648_hw0.sh\n",
    "- pl2648_hw0_all_in_one.txt\n",
    "- Pl2648_hw0_bash_program.sh\n",
    "- Pl2648_quiz1.ipynb\n",
    "\n",
    "This naming format allows for autograding of all assignments. If your files are not named with this format, you should expect a grade of zero for the assignment.\n",
    "\n",
    "Courseworks may rename your file to something like `pl2648_hw0-1.ipynb` if you resubmit your assignment. This is perfectly fine.\n",
    "\n",
    "**What Format To Submit In**\n",
    "\n",
    "Most homework and quizzes are in Jupyter notebooks. Unless specified otherwise, please download your work as an `.ipynb` file from your local machine and upload it to courseworks.\n",
    "\n",
    "\n",
    "**Grading**\n",
    "\n",
    "Possible points on late assignments are deducted by 50% for each day they are late. For example, if you get 80% of the total possible credits on a homework but hand in that homework a day late, you would get 40%. Assignments two days late get zero points.\n",
    "\n",
    "Once solutions are posted and graded assignments are handed back, students have 1 week to bring their grading discrepancies to a CA for consideration of possible grading errors. \n",
    "\n",
    "Because grading is automated, please delete (or comment out) the `raise NotImplmeneted` code before attempting a problem. \n",
    "\n",
    "Empty un-editable cells in an assignment are there for a purpose. They will be filled with tests by the automatic grader. Please do not attempt to remove them.\n",
    "\n",
    "**Getting Help**\n",
    "\n",
    "Asking for help is a great way to increase your chance of success. However there are some rules. When asking for help (especially from a fellow student), *you can show your helper your code but you can not view theirs*. You work needs to be your own. You can not post screenshots of your current work to Piazza or other tools used for getting help.\n",
    "\n",
    "If you need to reach out to a CA for help, please do so via Piazza and not via email. Answers given via Piazza will help you as well as other students. Thus, emails will always have a lower priority for response than Piazza questions. If you do email the CA, please make a note of what section you are in. This helps us identify you in courseworks faster. \n",
    "\n",
    "Finally, if you do not get a repsonse from a CA within 48 hours, you may email the professor.\n",
    "\n",
    "**Multiple Choice**\n",
    "\n",
    "If the question is multiple choice, you will be given several options to choose from and your function will need to return **one** of those options **verbatim** as a string.\n",
    "\n",
    "For example: \n",
    "\n",
    "Which of the following animals bark?\n",
    "\n",
    "- dogs\n",
    "- cats\n",
    "- fish\n",
    "- trees\n",
    "\n",
    "A correct answer would be structured in the following way:\n",
    "\n",
    "```python\n",
    "def question_animals():\n",
    "    return 'dogs'\n",
    "```\n",
    "\n",
    "You answer will be stripped of left and right white space and lowercased before comparison to the correct answer during grading.\n",
    "</details>"
   ]
  },
  {
   "cell_type": "markdown",
   "metadata": {
    "deletable": false,
    "editable": false,
    "nbgrader": {
     "cell_type": "markdown",
     "checksum": "c6e44524e086d06b95342f5f4e3d03e0",
     "grade": false,
     "grade_id": "cell-2fb47dccb642e15c",
     "locked": true,
     "schema_version": 3,
     "solution": false
    }
   },
   "source": [
    "**Q**: Write a function `get_cubes` that builds a new list via a list comprehension. The list comprehension should contain in sorted order, all cubes for numbers between 0 a given number `x` if the number is divisible by 3.\n",
    "\n",
    "```python\n",
    ">>> get_cubes(10)\n",
    "[0, 27, 216, 729]\n",
    ">>> get_cubes(0)\n",
    "[]\n",
    ">>> get_cubes(9)\n",
    "[0, 27, 216]\n",
    "```\n",
    "\n",
    "[1 point]"
   ]
  },
  {
   "cell_type": "code",
   "execution_count": 342,
   "metadata": {
    "deletable": false,
    "nbgrader": {
     "cell_type": "code",
     "checksum": "49dfba28a97039ff9749e439786a9af1",
     "grade": false,
     "grade_id": "cell-70c782eb764fa9f9",
     "locked": false,
     "schema_version": 3,
     "solution": true
    }
   },
   "outputs": [],
   "source": [
    "def get_cubes(x):\n",
    "    \n",
    "    list_ = [i**3 for i in range(x) if i%3==0]\n",
    "    \n",
    "    return list_\n",
    "           \n",
    "        "
   ]
  },
  {
   "cell_type": "code",
   "execution_count": 343,
   "metadata": {},
   "outputs": [
    {
     "data": {
      "text/plain": [
       "[0, 27, 216]"
      ]
     },
     "execution_count": 343,
     "metadata": {},
     "output_type": "execute_result"
    }
   ],
   "source": [
    "get_cubes(9)"
   ]
  },
  {
   "cell_type": "code",
   "execution_count": 344,
   "metadata": {
    "deletable": false,
    "editable": false,
    "nbgrader": {
     "cell_type": "code",
     "checksum": "8e8adc10e102c1b8c8c4755bb212d33a",
     "grade": true,
     "grade_id": "cell-a6c8d30e831fe94e",
     "locked": true,
     "points": 0.25,
     "schema_version": 3,
     "solution": false
    }
   },
   "outputs": [],
   "source": [
    "### BEGIN TESTS\n",
    "assert get_cubes(9) == [0, 27, 216]\n",
    "### BEGIN TESTS"
   ]
  },
  {
   "cell_type": "code",
   "execution_count": null,
   "metadata": {
    "deletable": false,
    "editable": false,
    "nbgrader": {
     "cell_type": "code",
     "checksum": "7ae4713d3c9a5fccae10204119f69ae5",
     "grade": true,
     "grade_id": "cell-9c019b1563666d38",
     "locked": true,
     "points": 0.25,
     "schema_version": 3,
     "solution": false,
     "task": false
    }
   },
   "outputs": [],
   "source": []
  },
  {
   "cell_type": "code",
   "execution_count": null,
   "metadata": {
    "deletable": false,
    "editable": false,
    "nbgrader": {
     "cell_type": "code",
     "checksum": "f5b679e1c067c3d76c489d8d3bbab89e",
     "grade": true,
     "grade_id": "cell-fb3ea7b19e7732e5",
     "locked": true,
     "points": 0.25,
     "schema_version": 3,
     "solution": false,
     "task": false
    }
   },
   "outputs": [],
   "source": []
  },
  {
   "cell_type": "code",
   "execution_count": null,
   "metadata": {
    "deletable": false,
    "editable": false,
    "nbgrader": {
     "cell_type": "code",
     "checksum": "1abaaad5a979645e33dce9ae74e512e5",
     "grade": true,
     "grade_id": "cell-f25ee1a76203c90e",
     "locked": true,
     "points": 0,
     "schema_version": 3,
     "solution": false
    }
   },
   "outputs": [],
   "source": []
  },
  {
   "cell_type": "code",
   "execution_count": null,
   "metadata": {
    "deletable": false,
    "editable": false,
    "nbgrader": {
     "cell_type": "code",
     "checksum": "18a49d72de8ac71e1bb23b89132ebf52",
     "grade": true,
     "grade_id": "cell-7f2062eecdd55c4f",
     "locked": true,
     "points": 0.25,
     "schema_version": 3,
     "solution": false
    }
   },
   "outputs": [],
   "source": []
  },
  {
   "cell_type": "markdown",
   "metadata": {
    "deletable": false,
    "editable": false,
    "nbgrader": {
     "cell_type": "markdown",
     "checksum": "4638037a707da459ebbb72795bcabc80",
     "grade": false,
     "grade_id": "cell-167931e7f704d2be",
     "locked": true,
     "schema_version": 3,
     "solution": false
    }
   },
   "source": [
    "**Q**: The function call `random.choice(string.ascii_lowercase)` returns a random lowercased ASCII letter. Create a function `get_count` that returns the number of unique letters returned by `x` sequential calls of `random.choice(string.ascii_lowercase)`. Your function should use a set comprehension.\n",
    "\n",
    "```python\n",
    ">>> get_count(10)\n",
    "8\n",
    ">>> get_count(10)\n",
    "7\n",
    ">>> get_count(10)\n",
    "9\n",
    ">>> get_count(7)\n",
    "5\n",
    "```\n",
    "\n",
    "[1 point]"
   ]
  },
  {
   "cell_type": "code",
   "execution_count": 307,
   "metadata": {
    "deletable": false,
    "nbgrader": {
     "cell_type": "code",
     "checksum": "5c723850eebabcd9f5b6dfa78ca25c61",
     "grade": false,
     "grade_id": "cell-00e884959ab1fddd",
     "locked": false,
     "schema_version": 3,
     "solution": true
    }
   },
   "outputs": [],
   "source": [
    "import string\n",
    "import random\n",
    "\n",
    "def get_count(x):\n",
    "    \n",
    "    set_= set({})\n",
    "    \n",
    "    {i for i in range(x)}  \n",
    "    set_.add(random.choice(string.ascii_lowercase))\n",
    "    \n",
    "    return len(set_)\n",
    "    \n",
    "  ## {i for i in range(x)}  \n",
    "## set(i for i in range(x))\n",
    "        "
   ]
  },
  {
   "cell_type": "code",
   "execution_count": 308,
   "metadata": {
    "deletable": false,
    "editable": false,
    "nbgrader": {
     "cell_type": "code",
     "checksum": "45cffe4ae405a817a19110117e2624ad",
     "grade": true,
     "grade_id": "cell-b57633eea1568b62",
     "locked": true,
     "points": 0.25,
     "schema_version": 3,
     "solution": false
    }
   },
   "outputs": [],
   "source": [
    "### BEGIN TESTS\n",
    "assert get_count(1) == 1\n",
    "### END TESTS"
   ]
  },
  {
   "cell_type": "code",
   "execution_count": 309,
   "metadata": {
    "deletable": false,
    "editable": false,
    "nbgrader": {
     "cell_type": "code",
     "checksum": "ddbf45173cf88700271f2bfc66fee364",
     "grade": true,
     "grade_id": "cell-fcfca77a80135f23",
     "locked": true,
     "points": 0.25,
     "schema_version": 3,
     "solution": false,
     "task": false
    }
   },
   "outputs": [],
   "source": [
    "### BEGIN TESTS\n",
    "assert get_count(5) <= 5\n",
    "### END TESTS"
   ]
  },
  {
   "cell_type": "code",
   "execution_count": 310,
   "metadata": {
    "deletable": false,
    "editable": false,
    "nbgrader": {
     "cell_type": "code",
     "checksum": "461a49590378e892fd00526c91ce5d7c",
     "grade": true,
     "grade_id": "cell-c8d44ff1c5f90324",
     "locked": true,
     "points": 0.25,
     "schema_version": 3,
     "solution": false,
     "task": false
    }
   },
   "outputs": [],
   "source": [
    "### BEGIN TESTS\n",
    "assert get_count(10) <= 10\n",
    "### END TESTS"
   ]
  },
  {
   "cell_type": "code",
   "execution_count": null,
   "metadata": {
    "deletable": false,
    "editable": false,
    "nbgrader": {
     "cell_type": "code",
     "checksum": "bf1aae729d952104748adb5a7fb2e41f",
     "grade": true,
     "grade_id": "cell-06fffca9a7420049",
     "locked": true,
     "points": 0.25,
     "schema_version": 3,
     "solution": false
    }
   },
   "outputs": [],
   "source": []
  },
  {
   "cell_type": "markdown",
   "metadata": {
    "deletable": false,
    "editable": false,
    "nbgrader": {
     "cell_type": "markdown",
     "checksum": "33baaa789c672b77bbb1c6f541db4000",
     "grade": false,
     "grade_id": "cell-7b5377e65fe73cf0",
     "locked": true,
     "schema_version": 3,
     "solution": false
    }
   },
   "source": [
    "**Q**: Create a function `get_debits` that takes a dictionary and returns a new dictionary were each key in the given dictionary is prefixed with \"debit\\_\" and each amount's value is multiplied by -1. The function should make use of a dictionary comprehension.\n",
    "\n",
    "\n",
    "```python\n",
    ">>> d = {'helicopter': 430, 'hanger': 75}\n",
    ">>> get_debits(d)\n",
    "{'debit_hanger': -75, 'debit_helicopter': -430}\n",
    "```\n",
    "\n",
    "[1 point]"
   ]
  },
  {
   "cell_type": "code",
   "execution_count": 294,
   "metadata": {
    "deletable": false,
    "nbgrader": {
     "cell_type": "code",
     "checksum": "7aeffa7b872f7b0f04b9ab647650f744",
     "grade": false,
     "grade_id": "cell-225b03fcb668cf76",
     "locked": false,
     "schema_version": 3,
     "solution": true
    }
   },
   "outputs": [],
   "source": [
    "def get_debits(d):\n",
    "    \n",
    "    d2= {'debit_'+ k: v*(-1) for k, v in d.items()}\n",
    "    return d2\n",
    "\n",
    "   ## keyword list comprehension\n",
    "    ## d = { k:v for k,v in {'a' : 1, 'b' : 0}.items()}"
   ]
  },
  {
   "cell_type": "code",
   "execution_count": 295,
   "metadata": {
    "deletable": false,
    "editable": false,
    "nbgrader": {
     "cell_type": "code",
     "checksum": "114977f965e4eb84f8f3f66c19f66a8f",
     "grade": true,
     "grade_id": "cell-640e5124f8e53cbc",
     "locked": true,
     "points": 0.25,
     "schema_version": 3,
     "solution": false
    }
   },
   "outputs": [],
   "source": [
    "### BEGIN TESTS\n",
    "assert get_debits({'helicopter': 430, 'hanger': 75}) == {'debit_helicopter': -430, 'debit_hanger': -75}\n",
    "### END TESTS"
   ]
  },
  {
   "cell_type": "code",
   "execution_count": 296,
   "metadata": {
    "deletable": false,
    "editable": false,
    "nbgrader": {
     "cell_type": "code",
     "checksum": "e833fba58464989d5678cad6e7b9f095",
     "grade": true,
     "grade_id": "cell-047a3d8b79742a2d",
     "locked": true,
     "points": 0.25,
     "schema_version": 3,
     "solution": false,
     "task": false
    }
   },
   "outputs": [],
   "source": [
    "### BEGIN TESTS\n",
    "assert get_debits({}) == {}\n",
    "### END TESTS"
   ]
  },
  {
   "cell_type": "code",
   "execution_count": 297,
   "metadata": {
    "deletable": false,
    "editable": false,
    "nbgrader": {
     "cell_type": "code",
     "checksum": "8415640a318ee3e32fb626c4c1cad199",
     "grade": true,
     "grade_id": "cell-15102ae8a9feec58",
     "locked": true,
     "points": 0.25,
     "schema_version": 3,
     "solution": false,
     "task": false
    }
   },
   "outputs": [],
   "source": [
    "### BEGIN TESTS\n",
    "assert get_debits({'a': 430, 'debit_a': 75}) == {'debit_a': -430, 'debit_debit_a': -75}\n",
    "### END TESTS"
   ]
  },
  {
   "cell_type": "code",
   "execution_count": null,
   "metadata": {
    "deletable": false,
    "editable": false,
    "nbgrader": {
     "cell_type": "code",
     "checksum": "b5062e4626787b0f5cbebd02770ffc04",
     "grade": true,
     "grade_id": "cell-4ad3da6ea4b02b76",
     "locked": true,
     "points": 0.25,
     "schema_version": 3,
     "solution": false
    }
   },
   "outputs": [],
   "source": []
  },
  {
   "cell_type": "markdown",
   "metadata": {
    "deletable": false,
    "editable": false,
    "nbgrader": {
     "cell_type": "markdown",
     "checksum": "899fb35d1ad132ea0bf355b16522827a",
     "grade": false,
     "grade_id": "cell-57999bbfacc75b23",
     "locked": true,
     "schema_version": 3,
     "solution": false
    }
   },
   "source": [
    "**Q**: Create a Ceaser cipher. Implement a function `ceaser_encrypt` that takes some text (`plaintext`) and returns ciphertext. To compute the ciphertext, iterate through each letter in the plain text and replace it with the letter that is 13 characters forward in the ASCII alphabet. For letters that are too far towards the end of the alphabet, start back at the beginning of the alphabet and continue counting up to 13. The function should convert `plaintext` to lower case before operating on the text. All punctuation, numbers, and spaces should be ignored by the cipher.\n",
    "\n",
    "For example:\n",
    "\n",
    "```python\n",
    ">>> def ceaser_encrypt(plaintext):\n",
    "...     # implement me\n",
    "...     pass\n",
    "... \n",
    ">>> ceaser_encrypt('You rock!')\n",
    "'lbh ebpx!'\n",
    "```\n",
    "[1 point]\n",
    "\n",
    "For fun, see what the result is if you pass text encrypted by `ceaser_encrypt` back into `ceaser_encrypt`."
   ]
  },
  {
   "cell_type": "code",
   "execution_count": 298,
   "metadata": {
    "deletable": false,
    "nbgrader": {
     "cell_type": "code",
     "checksum": "0db3c75eea6e0cf5f2d708f757b22bd1",
     "grade": false,
     "grade_id": "cell-aad5279e1353f544",
     "locked": false,
     "schema_version": 3,
     "solution": true
    }
   },
   "outputs": [],
   "source": [
    "import string\n",
    "\n",
    "def ceaser_encrypt(plaintext):\n",
    "    plaintext.lower()\n",
    "    \n",
    "    plaintext= plaintext.lower()\n",
    "    \n",
    "    result = ''\n",
    "    \n",
    "    for i in range(len(plaintext)):\n",
    "            char = plaintext[i]\n",
    "            \n",
    "            if ord(char) >=32 and ord(char) <= 64 :\n",
    "                result += char\n",
    "                \n",
    "            elif ord(char) >= 91 and ord(char) <= 96 :\n",
    "                result += char\n",
    "                \n",
    "            elif ord(char) >= 97 and ord(char) <= 122:\n",
    "                result +=chr((ord(char) -84) % 26 +97)\n",
    "                \n",
    "            elif ord(char) >= 123:  \n",
    "                result += char\n",
    "    \n",
    "    return result\n",
    "\n",
    "###string.ascii_lower()"
   ]
  },
  {
   "cell_type": "code",
   "execution_count": 345,
   "metadata": {},
   "outputs": [
    {
     "data": {
      "text/plain": [
       "'python is&8((great'"
      ]
     },
     "execution_count": 345,
     "metadata": {},
     "output_type": "execute_result"
    }
   ],
   "source": [
    "ceaser_encrypt('clguba vf&8((terng')"
   ]
  },
  {
   "cell_type": "code",
   "execution_count": null,
   "metadata": {},
   "outputs": [],
   "source": []
  },
  {
   "cell_type": "code",
   "execution_count": 300,
   "metadata": {
    "deletable": false,
    "editable": false,
    "nbgrader": {
     "cell_type": "code",
     "checksum": "5d880168d865c24613f557b40c96f793",
     "grade": true,
     "grade_id": "cell-2b614b795bd55609",
     "locked": true,
     "points": 0.25,
     "schema_version": 3,
     "solution": false
    }
   },
   "outputs": [],
   "source": [
    "### BEGIN TESTS\n",
    "assert ceaser_encrypt('clguba vf terng') == 'python is great'\n",
    "### BEGIN TESTS"
   ]
  },
  {
   "cell_type": "code",
   "execution_count": 301,
   "metadata": {
    "deletable": false,
    "editable": false,
    "nbgrader": {
     "cell_type": "code",
     "checksum": "84de24ca25b84a7023cdfa89af13291e",
     "grade": true,
     "grade_id": "cell-4639b17a4975ac35",
     "locked": true,
     "points": 0.25,
     "schema_version": 3,
     "solution": false,
     "task": false
    }
   },
   "outputs": [],
   "source": [
    "### BEGIN TESTS\n",
    "assert ceaser_encrypt('') == ''\n",
    "### BEGIN TESTS"
   ]
  },
  {
   "cell_type": "code",
   "execution_count": 302,
   "metadata": {
    "deletable": false,
    "editable": false,
    "nbgrader": {
     "cell_type": "code",
     "checksum": "a93cdc03dd803a973e1b0ceb95cf41e9",
     "grade": true,
     "grade_id": "cell-ffb7c0a724e323c9",
     "locked": true,
     "points": 0.25,
     "schema_version": 3,
     "solution": false,
     "task": false
    }
   },
   "outputs": [],
   "source": [
    "### BEGIN TESTS\n",
    "assert ceaser_encrypt('aaaaaa') == 'nnnnnn'\n",
    "### BEGIN TESTS"
   ]
  },
  {
   "cell_type": "code",
   "execution_count": null,
   "metadata": {
    "deletable": false,
    "editable": false,
    "nbgrader": {
     "cell_type": "code",
     "checksum": "382e6aaa52342ae42ea6a40506396f8c",
     "grade": true,
     "grade_id": "cell-e0ac874facd027c9",
     "locked": true,
     "points": 0.25,
     "schema_version": 3,
     "solution": false
    }
   },
   "outputs": [],
   "source": []
  },
  {
   "cell_type": "markdown",
   "metadata": {
    "deletable": false,
    "editable": false,
    "nbgrader": {
     "cell_type": "markdown",
     "checksum": "ccf97051b90e9fd9b2570a1db4db0db4",
     "grade": false,
     "grade_id": "cell-ce6e6a4f81fa4f71",
     "locked": true,
     "schema_version": 3,
     "solution": false
    }
   },
   "source": [
    "**Q**: Write a function named `factorial` to find the factorial for a given number. The function should return an integer. You can assume the argument given is non-negative.\n",
    "\n",
    "```\n",
    ">>> factorial(3)\n",
    "6\n",
    "```\n",
    "\n",
    "[1 point]"
   ]
  },
  {
   "cell_type": "code",
   "execution_count": 303,
   "metadata": {
    "deletable": false,
    "nbgrader": {
     "cell_type": "code",
     "checksum": "9d43655bc26e30366717575fc58ef97c",
     "grade": false,
     "grade_id": "cell-e103feeaf57201f9",
     "locked": false,
     "schema_version": 3,
     "solution": true
    }
   },
   "outputs": [],
   "source": [
    "def factorial(n):\n",
    "    if n < 2:\n",
    "        return 1\n",
    "    else:\n",
    "        return n * factorial(n-1)"
   ]
  },
  {
   "cell_type": "code",
   "execution_count": 304,
   "metadata": {
    "deletable": false,
    "editable": false,
    "nbgrader": {
     "cell_type": "code",
     "checksum": "6b9ba8c3908a149c50567156d556b9a2",
     "grade": true,
     "grade_id": "cell-9f0ec1966bdd4739",
     "locked": true,
     "points": 0.25,
     "schema_version": 3,
     "solution": false
    }
   },
   "outputs": [],
   "source": [
    "### BEGIN TESTS\n",
    "assert factorial(3) == 6\n",
    "### BEGIN TESTS"
   ]
  },
  {
   "cell_type": "code",
   "execution_count": 305,
   "metadata": {
    "deletable": false,
    "editable": false,
    "nbgrader": {
     "cell_type": "code",
     "checksum": "55b11ac8d7a77d0db420f5cd7e797151",
     "grade": true,
     "grade_id": "cell-d8e9f0c2f931d4ee",
     "locked": true,
     "points": 0.25,
     "schema_version": 3,
     "solution": false,
     "task": false
    }
   },
   "outputs": [],
   "source": [
    "### BEGIN TESTS\n",
    "assert factorial(0) == 1\n",
    "### BEGIN TESTS"
   ]
  },
  {
   "cell_type": "code",
   "execution_count": null,
   "metadata": {
    "deletable": false,
    "editable": false,
    "nbgrader": {
     "cell_type": "code",
     "checksum": "1783598db196d7fa459feee402967447",
     "grade": true,
     "grade_id": "cell-350813ba70697381",
     "locked": true,
     "points": 0.25,
     "schema_version": 3,
     "solution": false,
     "task": false
    }
   },
   "outputs": [],
   "source": []
  },
  {
   "cell_type": "code",
   "execution_count": null,
   "metadata": {
    "deletable": false,
    "editable": false,
    "nbgrader": {
     "cell_type": "code",
     "checksum": "51c1e6890459cec9020aba1fac726254",
     "grade": true,
     "grade_id": "cell-84c815a70530d4da",
     "locked": true,
     "points": 0.25,
     "schema_version": 3,
     "solution": false
    }
   },
   "outputs": [],
   "source": []
  },
  {
   "cell_type": "markdown",
   "metadata": {
    "deletable": false,
    "editable": false,
    "nbgrader": {
     "cell_type": "markdown",
     "checksum": "4c322a48a09117fb29235f0fb22a51c7",
     "grade": false,
     "grade_id": "cell-1c66e581fc567608",
     "locked": true,
     "schema_version": 3,
     "solution": false
    }
   },
   "source": [
    "**Extra Practice**: Write a script that acts like a stopwatch. You should be prompted to press enter to start the watch. Once the watch is running, you can create a lap by pressing enter again. Every time \"ENTER\" is pressed, the current lap time should be printed. Lap time is time that has elapsed since the last press of the \"ENTER\" button.\n",
    "\n",
    "```python\n",
    ">>> def timer():\n",
    "...     # implement me\n",
    "...     pass\n",
    ">>> timer()\n",
    "PRESS ENTER >\n",
    "LAP: 0.0\n",
    "PRESS ENTER >\n",
    "LAP: 2.182952880859375\n",
    "PRESS ENTER >\n",
    "LAP: 2.125649929046631\n",
    "PRESS ENTER >\n",
    "```\n",
    "\n",
    "[0 points]"
   ]
  },
  {
   "cell_type": "code",
   "execution_count": null,
   "metadata": {
    "deletable": false,
    "nbgrader": {
     "cell_type": "code",
     "checksum": "6cbe23fdc75ab5b33410abe394977d3c",
     "grade": false,
     "grade_id": "cell-b29f023d4c702a2f",
     "locked": false,
     "schema_version": 3,
     "solution": true
    }
   },
   "outputs": [],
   "source": [
    "import time\n",
    "\n",
    "def timer():\n",
    "    # YOUR CODE HERE\n",
    "    raise NotImplementedError()\n",
    "    \n",
    "# timer()  # uncomment me to test me out"
   ]
  }
 ],
 "metadata": {
  "anaconda-cloud": {},
  "kernelspec": {
   "display_name": "Python 3",
   "language": "python",
   "name": "python3"
  },
  "language_info": {
   "codemirror_mode": {
    "name": "ipython",
    "version": 3
   },
   "file_extension": ".py",
   "mimetype": "text/x-python",
   "name": "python",
   "nbconvert_exporter": "python",
   "pygments_lexer": "ipython3",
   "version": "3.8.5"
  }
 },
 "nbformat": 4,
 "nbformat_minor": 2
}
